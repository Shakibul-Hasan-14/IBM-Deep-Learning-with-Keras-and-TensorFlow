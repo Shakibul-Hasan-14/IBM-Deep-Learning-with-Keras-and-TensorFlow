{
 "cells": [
  {
   "cell_type": "markdown",
   "metadata": {},
   "source": [
    "**Import Necessary Libraries**"
   ]
  },
  {
   "cell_type": "code",
   "execution_count": 1,
   "metadata": {},
   "outputs": [],
   "source": [
    "import requests\n",
    "import numpy as np \n",
    "import pandas as pd \n",
    "import matplotlib.pyplot as plt \n",
    "\n",
    "from sklearn.preprocessing import MinMaxScaler\n",
    "\n",
    "import tensorflow as tf \n",
    "from tensorflow.keras.layers import Layer, Dense, LayerNormalization, Dropout"
   ]
  },
  {
   "cell_type": "markdown",
   "metadata": {},
   "source": [
    "**Setup Environment to Generate Synthetic Stock Price Data**"
   ]
  },
  {
   "cell_type": "code",
   "execution_count": 2,
   "metadata": {},
   "outputs": [
    {
     "name": "stdout",
     "output_type": "stream",
     "text": [
      "Synthetic stock_prices.csv created and loaded.\n"
     ]
    }
   ],
   "source": [
    "# Create a synthetic stock price dataset\n",
    "np.random.seed(42)\n",
    "data_length = 2000  # Adjust data length as needed\n",
    "trend = np.linspace(100, 200, data_length)\n",
    "noise = np.random.normal(0, 2, data_length)\n",
    "synthetic_data = trend + noise\n",
    "\n",
    "# Create a DataFrame and save as 'stock_prices.csv'\n",
    "data = pd.DataFrame(synthetic_data, columns=['Close'])\n",
    "data.to_csv('stock_prices.csv', index=False)\n",
    "print(\"Synthetic stock_prices.csv created and loaded.\")"
   ]
  },
  {
   "cell_type": "code",
   "execution_count": 3,
   "metadata": {},
   "outputs": [
    {
     "name": "stdout",
     "output_type": "stream",
     "text": [
      "Shape of X: (1899, 100, 1)\n",
      "Shape of Y: (1899,)\n"
     ]
    }
   ],
   "source": [
    "# Load the dataset \n",
    "data = pd.read_csv('stock_prices.csv') \n",
    "data = data[['Close']].values \n",
    "\n",
    "# Normalize the data\n",
    "scaler = MinMaxScaler(feature_range=(0, 1))\n",
    "data = scaler.fit_transform(data)\n",
    "\n",
    "# Prepare the data for training\n",
    "def create_dataset(data, time_step=1):\n",
    "    X, Y = [], []\n",
    "\n",
    "    for i in range(len(data)-time_step-1):\n",
    "        a = data[i:(i+time_step), 0]\n",
    "        X.append(a)\n",
    "        Y.append(data[i + time_step, 0])\n",
    "    return np.array(X), np.array(Y)\n",
    "\n",
    "time_step = 100\n",
    "X, Y = create_dataset(data, time_step)\n",
    "X = X.reshape(X.shape[0], X.shape[1], 1)\n",
    "\n",
    "print(\"Shape of X:\", X.shape) \n",
    "print(\"Shape of Y:\", Y.shape) "
   ]
  },
  {
   "cell_type": "markdown",
   "metadata": {},
   "source": [
    "**Implement Multi-Head Self-Attention**"
   ]
  },
  {
   "cell_type": "code",
   "execution_count": 4,
   "metadata": {},
   "outputs": [],
   "source": [
    "class MultiHeadSelfAttention(Layer): \n",
    "\n",
    "    def __init__(self, embed_dim, num_heads=8): \n",
    "        super(MultiHeadSelfAttention, self).__init__() \n",
    "        self.embed_dim = embed_dim \n",
    "        self.num_heads = num_heads \n",
    "        self.projection_dim = embed_dim // num_heads \n",
    "        self.query_dense = Dense(embed_dim) \n",
    "        self.key_dense = Dense(embed_dim) \n",
    "        self.value_dense = Dense(embed_dim) \n",
    "        self.combine_heads = Dense(embed_dim) \n",
    "\n",
    "\n",
    "    def attention(self, query, key, value): \n",
    "        score = tf.matmul(query, key, transpose_b=True) \n",
    "        dim_key = tf.cast(tf.shape(key)[-1], tf.float32) \n",
    "        scaled_score = score / tf.math.sqrt(dim_key) \n",
    "        weights = tf.nn.softmax(scaled_score, axis=-1) \n",
    "        output = tf.matmul(weights, value) \n",
    "        return output, weights \n",
    "\n",
    "    def split_heads(self, x, batch_size): \n",
    "        x = tf.reshape(x, (batch_size, -1, self.num_heads, self.projection_dim)) \n",
    "        return tf.transpose(x, perm=[0, 2, 1, 3]) \n",
    "\n",
    "    def call(self, inputs): \n",
    "        batch_size = tf.shape(inputs)[0] \n",
    "        query = self.query_dense(inputs) \n",
    "        key = self.key_dense(inputs) \n",
    "        value = self.value_dense(inputs) \n",
    "        query = self.split_heads(query, batch_size) \n",
    "        key = self.split_heads(key, batch_size) \n",
    "        value = self.split_heads(value, batch_size) \n",
    "        attention, _ = self.attention(query, key, value) \n",
    "        attention = tf.transpose(attention, perm=[0, 2, 1, 3]) \n",
    "        concat_attention = tf.reshape(attention, (batch_size, -1, self.embed_dim)) \n",
    "        output = self.combine_heads(concat_attention) \n",
    "        return output"
   ]
  },
  {
   "cell_type": "markdown",
   "metadata": {},
   "source": [
    "**Implement Transformer Block**"
   ]
  },
  {
   "cell_type": "code",
   "execution_count": 5,
   "metadata": {},
   "outputs": [],
   "source": [
    "class TransformerBlock(Layer): \n",
    "\n",
    "    def __init__(self, embed_dim, num_heads, ff_dim, rate=0.1): \n",
    "        super(TransformerBlock, self).__init__() \n",
    "        self.att = MultiHeadSelfAttention(embed_dim, num_heads) \n",
    "        self.ffn = tf.keras.Sequential([ \n",
    "            Dense(ff_dim, activation=\"relu\"), \n",
    "            Dense(embed_dim), \n",
    "        ]) \n",
    "\n",
    "        self.layernorm1 = LayerNormalization(epsilon=1e-6) \n",
    "        self.layernorm2 = LayerNormalization(epsilon=1e-6) \n",
    "        self.dropout1 = Dropout(rate) \n",
    "        self.dropout2 = Dropout(rate) \n",
    "\n",
    "    def call(self, inputs, training): \n",
    "        attn_output = self.att(inputs) \n",
    "        attn_output = self.dropout1(attn_output, training=training) \n",
    "        out1 = self.layernorm1(inputs + attn_output) \n",
    "        ffn_output = self.ffn(out1) \n",
    "        ffn_output = self.dropout2(ffn_output, training=training) \n",
    "        return self.layernorm2(out1 + ffn_output) "
   ]
  },
  {
   "cell_type": "markdown",
   "metadata": {},
   "source": [
    "**Implement Encoder Layer**"
   ]
  },
  {
   "cell_type": "code",
   "execution_count": 6,
   "metadata": {},
   "outputs": [],
   "source": [
    "class EncoderLayer(Layer): \n",
    "\n",
    "    def __init__(self, embed_dim, num_heads, ff_dim, rate=0.1): \n",
    "        super(EncoderLayer, self).__init__() \n",
    "        self.att = MultiHeadSelfAttention(embed_dim, num_heads) \n",
    "        self.ffn = tf.keras.Sequential([ \n",
    "            Dense(ff_dim, activation=\"relu\"), \n",
    "            Dense(embed_dim), \n",
    "        ]) \n",
    "\n",
    "        self.layernorm1 = LayerNormalization(epsilon=1e-6) \n",
    "        self.layernorm2 = LayerNormalization(epsilon=1e-6) \n",
    "        self.dropout1 = Dropout(rate) \n",
    "        self.dropout2 = Dropout(rate) \n",
    "\n",
    "    def call(self, inputs, training): \n",
    "        attn_output = self.att(inputs) \n",
    "        attn_output = self.dropout1(attn_output, training=training) \n",
    "        out1 = self.layernorm1(inputs + attn_output) \n",
    "        ffn_output = self.ffn(out1) \n",
    "        ffn_output = self.dropout2(ffn_output, training=training) \n",
    "        return self.layernorm2(out1 + ffn_output) "
   ]
  },
  {
   "cell_type": "markdown",
   "metadata": {},
   "source": [
    "**Implement Transformer Encoder**"
   ]
  },
  {
   "cell_type": "code",
   "execution_count": 7,
   "metadata": {},
   "outputs": [
    {
     "name": "stdout",
     "output_type": "stream",
     "text": [
      "(1, 100, 128)\n"
     ]
    }
   ],
   "source": [
    "class MultiHeadSelfAttention(Layer): \n",
    "    def __init__(self, embed_dim, num_heads=8): \n",
    "        super(MultiHeadSelfAttention, self).__init__() \n",
    "        self.embed_dim = embed_dim \n",
    "        self.num_heads = num_heads \n",
    "        self.projection_dim = embed_dim // num_heads \n",
    "        self.query_dense = Dense(embed_dim) \n",
    "        self.key_dense = Dense(embed_dim) \n",
    "        self.value_dense = Dense(embed_dim) \n",
    "        self.combine_heads = Dense(embed_dim) \n",
    " \n",
    "    def attention(self, query, key, value): \n",
    "        score = tf.matmul(query, key, transpose_b=True) \n",
    "        dim_key = tf.cast(tf.shape(key)[-1], tf.float32) \n",
    "        scaled_score = score / tf.math.sqrt(dim_key) \n",
    "        weights = tf.nn.softmax(scaled_score, axis=-1) \n",
    "        output = tf.matmul(weights, value) \n",
    "        return output, weights \n",
    "\n",
    "    def split_heads(self, x, batch_size): \n",
    "        x = tf.reshape(x, (batch_size, -1, self.num_heads, self.projection_dim)) \n",
    "        return tf.transpose(x, perm=[0, 2, 1, 3]) \n",
    "\n",
    "    def call(self, inputs): \n",
    "        batch_size = tf.shape(inputs)[0] \n",
    "        query = self.query_dense(inputs) \n",
    "        key = self.key_dense(inputs) \n",
    "        value = self.value_dense(inputs) \n",
    "        query = self.split_heads(query, batch_size) \n",
    "        key = self.split_heads(key, batch_size) \n",
    "        value = self.split_heads(value, batch_size) \n",
    "        attention, _ = self.attention(query, key, value) \n",
    "        attention = tf.transpose(attention, perm=[0, 2, 1, 3]) \n",
    "        concat_attention = tf.reshape(attention, (batch_size, -1, self.embed_dim)) \n",
    "        output = self.combine_heads(concat_attention) \n",
    "        return output \n",
    "\n",
    "class TransformerBlock(Layer): \n",
    "    def __init__(self, embed_dim, num_heads, ff_dim, rate=0.1): \n",
    "        super(TransformerBlock, self).__init__() \n",
    "        self.att = MultiHeadSelfAttention(embed_dim, num_heads) \n",
    "        self.ffn = tf.keras.Sequential([ \n",
    "            Dense(ff_dim, activation=\"relu\"), \n",
    "            Dense(embed_dim), \n",
    "        ]) \n",
    "\n",
    "        self.layernorm1 = LayerNormalization(epsilon=1e-6) \n",
    "        self.layernorm2 = LayerNormalization(epsilon=1e-6) \n",
    "        self.dropout1 = Dropout(rate) \n",
    "        self.dropout2 = Dropout(rate) \n",
    " \n",
    "    def call(self, inputs, training): \n",
    "        attn_output = self.att(inputs) \n",
    "        attn_output = self.dropout1(attn_output, training=training) \n",
    "        out1 = self.layernorm1(inputs + attn_output) \n",
    "        ffn_output = self.ffn(out1) \n",
    "        ffn_output = self.dropout2(ffn_output, training=training) \n",
    "        return self.layernorm2(out1 + ffn_output) \n",
    "\n",
    "class TransformerEncoder(Layer): \n",
    "    def __init__(self, num_layers, embed_dim, num_heads, ff_dim, rate=0.1): \n",
    "        super(TransformerEncoder, self).__init__() \n",
    "        self.num_layers = num_layers \n",
    "        self.embed_dim = embed_dim \n",
    "        self.enc_layers = [TransformerBlock(embed_dim, num_heads, ff_dim, rate) for _ in range(num_layers)] \n",
    "        self.dropout = Dropout(rate) \n",
    "\n",
    "    def call(self, inputs, training=False): \n",
    "        x = inputs \n",
    "        for i in range(self.num_layers): \n",
    "            x = self.enc_layers[i](x, training=training) \n",
    "        return x \n",
    "\n",
    "# Example usage \n",
    "embed_dim = 128 \n",
    "num_heads = 8 \n",
    "ff_dim = 512 \n",
    "num_layers = 4 \n",
    "\n",
    "transformer_encoder = TransformerEncoder(num_layers, embed_dim, num_heads, ff_dim) \n",
    "inputs = tf.random.uniform((1, 100, embed_dim)) \n",
    "outputs = transformer_encoder(inputs, training=False)  # Use keyword argument for 'training' \n",
    "print(outputs.shape)  # Should print (1, 100, 128) "
   ]
  },
  {
   "cell_type": "markdown",
   "metadata": {},
   "source": [
    "**Build and Compile Transformer Model**"
   ]
  },
  {
   "cell_type": "code",
   "execution_count": 8,
   "metadata": {},
   "outputs": [
    {
     "name": "stdout",
     "output_type": "stream",
     "text": [
      "Model: \"model\"\n",
      "_________________________________________________________________\n",
      "Layer (type)                 Output Shape              Param #   \n",
      "=================================================================\n",
      "input_1 (InputLayer)         [(None, 100, 1)]          0         \n",
      "_________________________________________________________________\n",
      "dense_48 (Dense)             (None, 100, 128)          256       \n",
      "_________________________________________________________________\n",
      "transformer_encoder_1 (Trans (None, 100, 128)          793088    \n",
      "_________________________________________________________________\n",
      "flatten (Flatten)            (None, 12800)             0         \n",
      "_________________________________________________________________\n",
      "dense_49 (Dense)             (None, 1)                 12801     \n",
      "=================================================================\n",
      "Total params: 806,145\n",
      "Trainable params: 806,145\n",
      "Non-trainable params: 0\n",
      "_________________________________________________________________\n"
     ]
    }
   ],
   "source": [
    "# Define the necessary parameters \n",
    "embed_dim = 128 \n",
    "num_heads = 8 \n",
    "ff_dim = 512 \n",
    "num_layers = 4 \n",
    "\n",
    "# Define the Transformer Encoder \n",
    "transformer_encoder = TransformerEncoder(num_layers, embed_dim, num_heads, ff_dim) \n",
    "\n",
    "# Build the model \n",
    "input_shape = (X.shape[1], X.shape[2]) \n",
    "inputs = tf.keras.Input(shape=input_shape) \n",
    "\n",
    "# Project the inputs to the embed_dim \n",
    "x = tf.keras.layers.Dense(embed_dim)(inputs) \n",
    "encoder_outputs = transformer_encoder(x) \n",
    "flatten = tf.keras.layers.Flatten()(encoder_outputs) \n",
    "outputs = tf.keras.layers.Dense(1)(flatten) \n",
    "model = tf.keras.Model(inputs, outputs) \n",
    "\n",
    "# Compile the model \n",
    "model.compile(optimizer='adam', loss='mse') \n",
    "\n",
    "# Summary of the model \n",
    "model.summary() "
   ]
  },
  {
   "cell_type": "markdown",
   "metadata": {},
   "source": [
    "**Train Transformer Model**"
   ]
  },
  {
   "cell_type": "code",
   "execution_count": 9,
   "metadata": {},
   "outputs": [
    {
     "name": "stdout",
     "output_type": "stream",
     "text": [
      "Epoch 1/20\n",
      "60/60 [==============================] - 5s 27ms/step - loss: 4.1179\n",
      "Epoch 2/20\n",
      "60/60 [==============================] - 2s 28ms/step - loss: 0.2025\n",
      "Epoch 3/20\n",
      "60/60 [==============================] - 2s 27ms/step - loss: 0.1877\n",
      "Epoch 4/20\n",
      "60/60 [==============================] - 1s 25ms/step - loss: 0.1671\n",
      "Epoch 5/20\n",
      "60/60 [==============================] - 1s 25ms/step - loss: 0.1930\n",
      "Epoch 6/20\n",
      "60/60 [==============================] - 1s 25ms/step - loss: 0.1853\n",
      "Epoch 7/20\n",
      "60/60 [==============================] - 1s 25ms/step - loss: 0.1725\n",
      "Epoch 8/20\n",
      "60/60 [==============================] - 1s 24ms/step - loss: 0.1341\n",
      "Epoch 9/20\n",
      "60/60 [==============================] - 1s 25ms/step - loss: 0.1459\n",
      "Epoch 10/20\n",
      "60/60 [==============================] - 1s 25ms/step - loss: 0.1171\n",
      "Epoch 11/20\n",
      "60/60 [==============================] - 1s 25ms/step - loss: 0.1240\n",
      "Epoch 12/20\n",
      "60/60 [==============================] - 2s 25ms/step - loss: 0.0911\n",
      "Epoch 13/20\n",
      "60/60 [==============================] - 1s 25ms/step - loss: 0.0682\n",
      "Epoch 14/20\n",
      "60/60 [==============================] - 1s 24ms/step - loss: 0.0702\n",
      "Epoch 15/20\n",
      "60/60 [==============================] - 2s 25ms/step - loss: 0.0608\n",
      "Epoch 16/20\n",
      "60/60 [==============================] - 2s 25ms/step - loss: 0.0826\n",
      "Epoch 17/20\n",
      "60/60 [==============================] - 1s 25ms/step - loss: 0.0730\n",
      "Epoch 18/20\n",
      "60/60 [==============================] - 2s 25ms/step - loss: 0.0375\n",
      "Epoch 19/20\n",
      "60/60 [==============================] - 1s 25ms/step - loss: 0.0297\n",
      "Epoch 20/20\n",
      "60/60 [==============================] - 2s 25ms/step - loss: 0.0373\n"
     ]
    },
    {
     "data": {
      "text/plain": [
       "<tensorflow.python.keras.callbacks.History at 0x19d17b03850>"
      ]
     },
     "execution_count": 9,
     "metadata": {},
     "output_type": "execute_result"
    }
   ],
   "source": [
    "# Train the model\n",
    "model.fit(X, Y, epochs=20, batch_size=32)"
   ]
  },
  {
   "cell_type": "markdown",
   "metadata": {},
   "source": [
    "**Evaluate and Make Predictions**"
   ]
  },
  {
   "cell_type": "code",
   "execution_count": 10,
   "metadata": {},
   "outputs": [
    {
     "data": {
      "image/png": "[encoded data removed]",
      "text/plain": [
       "<Figure size 640x480 with 1 Axes>"
      ]
     },
     "metadata": {},
     "output_type": "display_data"
    }
   ],
   "source": [
    "# Make predictions \n",
    "predictions = model.predict(X) \n",
    "predictions = scaler.inverse_transform(predictions) \n",
    " \n",
    "# Plot the predictions \n",
    "plt.plot(data, label='True Data') \n",
    "plt.plot(np.arange(time_step, time_step + len(predictions)), predictions, label='Predictions') \n",
    "plt.xlabel('Time') \n",
    "plt.ylabel('Stock Price') \n",
    "plt.legend() \n",
    "plt.show() "
   ]
  },
  {
   "cell_type": "markdown",
   "metadata": {},
   "source": [
    "**Add Dropout to Transformer Model**"
   ]
  },
  {
   "cell_type": "code",
   "execution_count": 11,
   "metadata": {},
   "outputs": [
    {
     "name": "stdout",
     "output_type": "stream",
     "text": [
      "Epoch 1/20\n",
      "60/60 [==============================] - 5s 28ms/step - loss: 2.4888\n",
      "Epoch 2/20\n",
      "60/60 [==============================] - 2s 25ms/step - loss: 0.7695\n",
      "Epoch 3/20\n",
      "60/60 [==============================] - 1s 25ms/step - loss: 0.2734\n",
      "Epoch 4/20\n",
      "60/60 [==============================] - 2s 25ms/step - loss: 0.1032\n",
      "Epoch 5/20\n",
      "60/60 [==============================] - 2s 26ms/step - loss: 0.0467\n",
      "Epoch 6/20\n",
      "60/60 [==============================] - 2s 25ms/step - loss: 0.0312\n",
      "Epoch 7/20\n",
      "60/60 [==============================] - 2s 25ms/step - loss: 0.0254\n",
      "Epoch 8/20\n",
      "60/60 [==============================] - 2s 26ms/step - loss: 0.0219\n",
      "Epoch 9/20\n",
      "60/60 [==============================] - 2s 25ms/step - loss: 0.0188\n",
      "Epoch 10/20\n",
      "60/60 [==============================] - 2s 25ms/step - loss: 0.0220\n",
      "Epoch 11/20\n",
      "60/60 [==============================] - 2s 26ms/step - loss: 0.0205\n",
      "Epoch 12/20\n",
      "60/60 [==============================] - 2s 25ms/step - loss: 0.0150\n",
      "Epoch 13/20\n",
      "60/60 [==============================] - 2s 25ms/step - loss: 0.0148\n",
      "Epoch 14/20\n",
      "60/60 [==============================] - 2s 25ms/step - loss: 0.0155\n",
      "Epoch 15/20\n",
      "60/60 [==============================] - 1s 25ms/step - loss: 0.0135\n",
      "Epoch 16/20\n",
      "60/60 [==============================] - 2s 25ms/step - loss: 0.0110\n",
      "Epoch 17/20\n",
      "60/60 [==============================] - 1s 25ms/step - loss: 0.0132\n",
      "Epoch 18/20\n",
      "60/60 [==============================] - 2s 25ms/step - loss: 0.0194\n",
      "Epoch 19/20\n",
      "60/60 [==============================] - 2s 25ms/step - loss: 0.0114\n",
      "Epoch 20/20\n",
      "60/60 [==============================] - 2s 25ms/step - loss: 0.0113\n",
      "60/60 [==============================] - 1s 13ms/step - loss: 0.0074\n",
      "Test loss: 0.0073931398801505566\n"
     ]
    }
   ],
   "source": [
    "# Add a dropout layer after the Flatten layer \n",
    "flatten = tf.keras.layers.Flatten()(encoder_outputs) \n",
    "dropout = Dropout(0.5)(flatten) \n",
    "outputs = tf.keras.layers.Dense(1)(dropout) \n",
    "\n",
    "# Build the model \n",
    "model = tf.keras.Model(inputs, outputs) \n",
    "\n",
    "# Compile the model \n",
    "model.compile(optimizer='adam', loss='mse') \n",
    "\n",
    "# Train the model \n",
    "model.fit(X, Y, epochs=20, batch_size=32) \n",
    "\n",
    "# Evaluate the model \n",
    "loss = model.evaluate(X, Y) \n",
    "print(f'Test loss: {loss}') "
   ]
  },
  {
   "cell_type": "markdown",
   "metadata": {},
   "source": [
    "**Experiment with Different Batch Sizes**"
   ]
  },
  {
   "cell_type": "code",
   "execution_count": 12,
   "metadata": {},
   "outputs": [
    {
     "name": "stdout",
     "output_type": "stream",
     "text": [
      "Epoch 1/20\n",
      "119/119 [==============================] - 3s 21ms/step - loss: 0.0187\n",
      "Epoch 2/20\n",
      "119/119 [==============================] - 2s 21ms/step - loss: 0.0237\n",
      "Epoch 3/20\n",
      "119/119 [==============================] - 3s 21ms/step - loss: 0.0251\n",
      "Epoch 4/20\n",
      "119/119 [==============================] - 3s 21ms/step - loss: 0.0313\n",
      "Epoch 5/20\n",
      "119/119 [==============================] - 2s 21ms/step - loss: 0.0256\n",
      "Epoch 6/20\n",
      "119/119 [==============================] - 2s 21ms/step - loss: 0.0296\n",
      "Epoch 7/20\n",
      "119/119 [==============================] - 3s 21ms/step - loss: 0.0186\n",
      "Epoch 8/20\n",
      "119/119 [==============================] - 3s 21ms/step - loss: 0.0196\n",
      "Epoch 9/20\n",
      "119/119 [==============================] - 2s 21ms/step - loss: 0.0220\n",
      "Epoch 10/20\n",
      "119/119 [==============================] - 2s 21ms/step - loss: 0.0237\n",
      "Epoch 11/20\n",
      "119/119 [==============================] - 2s 21ms/step - loss: 0.0289\n",
      "Epoch 12/20\n",
      "119/119 [==============================] - 2s 21ms/step - loss: 0.0144\n",
      "Epoch 13/20\n",
      "119/119 [==============================] - 2s 20ms/step - loss: 0.0182\n",
      "Epoch 14/20\n",
      "119/119 [==============================] - 3s 22ms/step - loss: 0.0147\n",
      "Epoch 15/20\n",
      "119/119 [==============================] - 3s 23ms/step - loss: 0.0130\n",
      "Epoch 16/20\n",
      "119/119 [==============================] - 3s 22ms/step - loss: 0.0184\n",
      "Epoch 17/20\n",
      "119/119 [==============================] - 3s 23ms/step - loss: 0.0117\n",
      "Epoch 18/20\n",
      "119/119 [==============================] - 2s 21ms/step - loss: 0.0111\n",
      "Epoch 19/20\n",
      "119/119 [==============================] - 2s 21ms/step - loss: 0.0141\n",
      "Epoch 20/20\n",
      "119/119 [==============================] - 3s 21ms/step - loss: 0.0143\n",
      "60/60 [==============================] - 1s 12ms/step - loss: 0.0034\n",
      "Test loss with batch size 16: 0.003368535079061985\n",
      "Epoch 1/20\n",
      "30/30 [==============================] - 1s 38ms/step - loss: 0.0075\n",
      "Epoch 2/20\n",
      "30/30 [==============================] - 1s 39ms/step - loss: 0.0043\n",
      "Epoch 3/20\n",
      "30/30 [==============================] - 1s 39ms/step - loss: 0.0035\n",
      "Epoch 4/20\n",
      "30/30 [==============================] - 1s 39ms/step - loss: 0.0031\n",
      "Epoch 5/20\n",
      "30/30 [==============================] - 1s 39ms/step - loss: 0.0032\n",
      "Epoch 6/20\n",
      "30/30 [==============================] - 1s 39ms/step - loss: 0.0028\n",
      "Epoch 7/20\n",
      "30/30 [==============================] - 1s 39ms/step - loss: 0.0031\n",
      "Epoch 8/20\n",
      "30/30 [==============================] - 1s 39ms/step - loss: 0.0029\n",
      "Epoch 9/20\n",
      "30/30 [==============================] - 1s 39ms/step - loss: 0.0026\n",
      "Epoch 10/20\n",
      "30/30 [==============================] - 1s 39ms/step - loss: 0.0026\n",
      "Epoch 11/20\n",
      "30/30 [==============================] - 1s 39ms/step - loss: 0.0029\n",
      "Epoch 12/20\n",
      "30/30 [==============================] - 1s 39ms/step - loss: 0.0034\n",
      "Epoch 13/20\n",
      "30/30 [==============================] - 1s 39ms/step - loss: 0.0028\n",
      "Epoch 14/20\n",
      "30/30 [==============================] - 1s 39ms/step - loss: 0.0025\n",
      "Epoch 15/20\n",
      "30/30 [==============================] - 1s 39ms/step - loss: 0.0025\n",
      "Epoch 16/20\n",
      "30/30 [==============================] - 1s 38ms/step - loss: 0.0024\n",
      "Epoch 17/20\n",
      "30/30 [==============================] - 1s 39ms/step - loss: 0.0025\n",
      "Epoch 18/20\n",
      "30/30 [==============================] - 1s 39ms/step - loss: 0.0031\n",
      "Epoch 19/20\n",
      "30/30 [==============================] - 1s 39ms/step - loss: 0.0031\n",
      "Epoch 20/20\n",
      "30/30 [==============================] - 1s 39ms/step - loss: 0.0028\n",
      "60/60 [==============================] - 1s 12ms/step - loss: 4.0997e-04\n",
      "Test loss with batch size 64: 0.0004099721263628453\n"
     ]
    }
   ],
   "source": [
    "# Train the model with batch size 16\n",
    "model.fit(X, Y, epochs=20, batch_size=16)\n",
    "\n",
    "# Evaluate the model\n",
    "loss = model.evaluate(X, Y)\n",
    "print(f'Test loss with batch size 16: {loss}')\n",
    "\n",
    "# Train the model with batch size 64\n",
    "model.fit(X, Y, epochs=20, batch_size=64)\n",
    "\n",
    "# Evaluate the model\n",
    "loss = model.evaluate(X, Y)\n",
    "print(f'Test loss with batch size 64: {loss}')"
   ]
  },
  {
   "cell_type": "markdown",
   "metadata": {},
   "source": [
    "**Use a Different Activation Function**"
   ]
  },
  {
   "cell_type": "code",
   "execution_count": 13,
   "metadata": {},
   "outputs": [
    {
     "name": "stdout",
     "output_type": "stream",
     "text": [
      "Epoch 1/20\n",
      "60/60 [==============================] - 5s 28ms/step - loss: 0.2879\n",
      "Epoch 2/20\n",
      "60/60 [==============================] - 2s 26ms/step - loss: 0.2959\n",
      "Epoch 3/20\n",
      "60/60 [==============================] - 2s 27ms/step - loss: 0.2966\n",
      "Epoch 4/20\n",
      "60/60 [==============================] - 2s 27ms/step - loss: 0.2993\n",
      "Epoch 5/20\n",
      "60/60 [==============================] - 2s 26ms/step - loss: 0.2967\n",
      "Epoch 6/20\n",
      "60/60 [==============================] - 2s 26ms/step - loss: 0.2967\n",
      "Epoch 7/20\n",
      "60/60 [==============================] - 2s 27ms/step - loss: 0.2967\n",
      "Epoch 8/20\n",
      "60/60 [==============================] - 1s 25ms/step - loss: 0.2966\n",
      "Epoch 9/20\n",
      "60/60 [==============================] - 2s 25ms/step - loss: 0.2938\n",
      "Epoch 10/20\n",
      "60/60 [==============================] - 1s 25ms/step - loss: 0.2967\n",
      "Epoch 11/20\n",
      "60/60 [==============================] - 1s 25ms/step - loss: 0.2967\n",
      "Epoch 12/20\n",
      "60/60 [==============================] - 2s 25ms/step - loss: 0.2967\n",
      "Epoch 13/20\n",
      "60/60 [==============================] - 1s 25ms/step - loss: 0.2967\n",
      "Epoch 14/20\n",
      "60/60 [==============================] - 2s 25ms/step - loss: 0.2967\n",
      "Epoch 15/20\n",
      "60/60 [==============================] - 1s 25ms/step - loss: 0.2967\n",
      "Epoch 16/20\n",
      "60/60 [==============================] - 1s 25ms/step - loss: 0.2967\n",
      "Epoch 17/20\n",
      "60/60 [==============================] - 2s 25ms/step - loss: 0.2967\n",
      "Epoch 18/20\n",
      "60/60 [==============================] - 2s 25ms/step - loss: 0.2967\n",
      "Epoch 19/20\n",
      "60/60 [==============================] - 1s 25ms/step - loss: 0.2967\n",
      "Epoch 20/20\n",
      "60/60 [==============================] - 2s 25ms/step - loss: 0.2967\n",
      "60/60 [==============================] - 1s 12ms/step - loss: 0.2967\n",
      "Test loss with tanh activation: 0.29668867588043213\n"
     ]
    }
   ],
   "source": [
    "# Change the activation function of the Dense layer to tanh\n",
    "outputs = tf.keras.layers.Dense(1, activation='tanh')(flatten)\n",
    "\n",
    "# Build the model\n",
    "model = tf.keras.Model(inputs, outputs)\n",
    "\n",
    "# Compile the model\n",
    "model.compile(optimizer='adam', loss='mse')\n",
    "\n",
    "# Train the model\n",
    "model.fit(X, Y, epochs=20, batch_size=32)\n",
    "\n",
    "# Evaluate the model\n",
    "loss = model.evaluate(X, Y)\n",
    "print(f'Test loss with tanh activation: {loss}')"
   ]
  }
 ],
 "metadata": {
  "kernelspec": {
   "display_name": "Python 3 (ipykernel)",
   "language": "python",
   "name": "python3"
  },
  "language_info": {
   "codemirror_mode": {
    "name": "ipython",
    "version": 3
   },
   "file_extension": ".py",
   "mimetype": "text/x-python",
   "name": "python",
   "nbconvert_exporter": "python",
   "pygments_lexer": "ipython3",
   "version": "3.8.15"
  },
  "prev_pub_hash": "28ac4fd81c1d713f83dcd1cdf1d3383ad25ea92873288fe9e978e9a17b314709"
 },
 "nbformat": 4,
 "nbformat_minor": 4
}
